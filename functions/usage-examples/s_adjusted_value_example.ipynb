{
 "cells": [
  {
   "cell_type": "code",
   "execution_count": null,
   "metadata": {
    "collapsed": true
   },
   "outputs": [],
   "source": [
    "import pandas as pd\n",
    "\n",
    "from arpym.tools import adjusted_value\n",
    "\n",
    "# Input parameters\n",
    "path = '../../../databases/global-databases/equities/db_stocks_SP500/'\n",
    "df_nokia_stock = pd.read_csv(path + 'NOK_prices.csv',\n",
    "                             header=0)\n",
    "df_nok_dividends = pd.read_csv(path + 'NOK_dividends.csv',\n",
    "                               header=0)\n",
    "\n",
    "# convert column 'date' from string to datetime64\n",
    "df_nokia_stock['date_tmstmp'] = pd.to_datetime(df_nokia_stock.date,\n",
    "                                               dayfirst=True)\n",
    "df_nok_dividends['date_tmstmp'] = pd.to_datetime(df_nok_dividends.date,\n",
    "                                                 dayfirst=True)\n",
    "\n",
    "# extract values from dataframe\n",
    "dates = df_nokia_stock.date_tmstmp.values\n",
    "t_no_cf = df_nok_dividends.date_tmstmp.values\n",
    "cf_r = df_nok_dividends.dividends.values\n",
    "v_t_close = df_nokia_stock.close.values\n",
    "\n",
    "# compute cash--flow-adjusted values\n",
    "v_adj = adjusted_value(v_t_close, dates, cf_r, t_no_cf)"
   ]
  }
 ],
 "metadata": {
  "kernelspec": {
   "display_name": "Python 2",
   "language": "python",
   "name": "python2"
  },
  "language_info": {
   "codemirror_mode": {
    "name": "ipython",
    "version": 2
   },
   "file_extension": ".py",
   "mimetype": "text/x-python",
   "name": "python",
   "nbconvert_exporter": "python",
   "pygments_lexer": "ipython2",
   "version": "2.7.6"
  }
 },
 "nbformat": 4,
 "nbformat_minor": 0
}
